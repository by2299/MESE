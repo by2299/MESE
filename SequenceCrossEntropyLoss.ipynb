{
 "cells": [
  {
   "cell_type": "code",
   "execution_count": 6,
   "id": "a98e7150",
   "metadata": {},
   "outputs": [],
   "source": [
    "import torch\n",
    "import torch.nn as nn\n",
    "import torch.nn.functional as F"
   ]
  },
  {
   "cell_type": "code",
   "execution_count": 7,
   "id": "e0c94e41",
   "metadata": {},
   "outputs": [],
   "source": [
    "class SequenceCrossEntropyLoss(nn.Module):\n",
    "    def __init__(self):\n",
    "        super().__init__()\n",
    "    \n",
    "    def forward(self, logits, targets, mask, label_smoothing=-1, reduce=None):\n",
    "        \"\"\"\n",
    "        reduce: None, \"batch\", \"sentence\"\n",
    "        \"\"\"\n",
    "        return sequence_cross_entropy_with_logits(logits, targets, mask, label_smoothing, reduce)\n",
    "\n",
    "\n",
    "def sequence_cross_entropy_with_logits(logits, targets, mask, label_smoothing, reduce):\n",
    "    # type: (Tensor, Tensor, Tensor, float, bool)-> Tensor\n",
    "    \"\"\"\n",
    "    label_smoothing : ``float``, optional (default = 0.0)\n",
    "        It should be smaller than 1.\n",
    "    \"\"\"\n",
    "    # shape : (batch * sequence_length, num_classes)\n",
    "    logits_flat = logits.view(-1, logits.size(-1))\n",
    "    # shape : (batch * sequence_length, num_classes)\n",
    "    log_probs_flat = F.log_softmax(logits_flat, dim=-1)\n",
    "    # shape : (batch * max_len, 1)\n",
    "    targets_flat = targets.view(-1, 1).long()\n",
    "\n",
    "    if label_smoothing > 0.0:\n",
    "        num_classes = logits.size(-1)\n",
    "        smoothing_value = label_smoothing / float(num_classes)\n",
    "        # Fill all the correct indices with 1 - smoothing value.\n",
    "        one_hot_targets = torch.zeros_like(log_probs_flat).scatter_(-1, targets_flat, 1.0 - label_smoothing)\n",
    "        smoothed_targets = one_hot_targets + smoothing_value\n",
    "        negative_log_likelihood_flat = -log_probs_flat * smoothed_targets\n",
    "        negative_log_likelihood_flat = negative_log_likelihood_flat.sum(-1, keepdim=True)\n",
    "    else:\n",
    "        # shape : (batch * sequence_length, 1)\n",
    "        negative_log_likelihood_flat = - torch.gather(log_probs_flat, dim=1, index=targets_flat)\n",
    "                                       \n",
    "    # shape : (batch, sequence_length)\n",
    "    negative_log_likelihood = negative_log_likelihood_flat.view(-1, logits.shape[1])\n",
    "    \n",
    "    # shape : (batch, sequence_length)\n",
    "    loss = negative_log_likelihood * mask\n",
    "\n",
    "    if reduce:\n",
    "        # shape : (batch,)\n",
    "        loss = loss.sum(1) / (mask.sum(1) + 1e-13)\n",
    "        \n",
    "        if reduce == \"batch\":\n",
    "            # shape : scalar\n",
    "            loss = loss.mean()\n",
    "\n",
    "    return loss"
   ]
  },
  {
   "cell_type": "code",
   "execution_count": null,
   "id": "4912d413",
   "metadata": {},
   "outputs": [],
   "source": []
  }
 ],
 "metadata": {
  "kernelspec": {
   "display_name": "Python 3 (ipykernel)",
   "language": "python",
   "name": "python3"
  },
  "language_info": {
   "codemirror_mode": {
    "name": "ipython",
    "version": 3
   },
   "file_extension": ".py",
   "mimetype": "text/x-python",
   "name": "python",
   "nbconvert_exporter": "python",
   "pygments_lexer": "ipython3",
   "version": "3.8.8"
  }
 },
 "nbformat": 4,
 "nbformat_minor": 5
}
