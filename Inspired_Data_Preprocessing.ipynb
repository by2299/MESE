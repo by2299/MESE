{
 "cells": [
  {
   "cell_type": "code",
   "execution_count": 1,
   "id": "aa9f1eee",
   "metadata": {},
   "outputs": [],
   "source": [
    "import numpy \n",
    "import torch\n",
    "import json\n",
    "import ast\n",
    "import pandas as pd\n",
    "import re"
   ]
  },
  {
   "cell_type": "code",
   "execution_count": 2,
   "id": "38047e0f",
   "metadata": {},
   "outputs": [
    {
     "data": {
      "text/plain": [
       "'return:\\n1. inspired_movie_db: ID to descpiton + actor + ...\\n2. train_dialogs\\n3. dev_dialogs\\n4. test_dialogs\\n\\n'"
      ]
     },
     "execution_count": 2,
     "metadata": {},
     "output_type": "execute_result"
    }
   ],
   "source": [
    "r\"\"\"return:\n",
    "1. inspired_movie_db: ID to descpiton + actor + ...\n",
    "2. train_dialogs\n",
    "3. dev_dialogs\n",
    "4. test_dialogs\n",
    "\n",
    "\"\"\""
   ]
  },
  {
   "cell_type": "code",
   "execution_count": 3,
   "id": "230df70b",
   "metadata": {},
   "outputs": [
    {
     "name": "stdout",
     "output_type": "stream",
     "text": [
      "17869\n"
     ]
    }
   ],
   "source": [
    "# Inspired database\n",
    "\n",
    "inspired_movie_db = {} # ID to descripiton\n",
    "movie_to_id = {}\n",
    "\n",
    "key = 0\n",
    "df = pd.read_csv(\"/home/by2299/RedialData/DATA/movie_database.tsv\", sep = '\\t')\n",
    "for i in range(len(df)):\n",
    "    mid = df['imdb_id'][i]\n",
    "    name = df['title'][i].lower()\n",
    "    year = df['year'][i]\n",
    "    desc = df['short_plot'][i]\n",
    "    full_name = name + ' (' + str(year) + ')'\n",
    "    \n",
    "    concated_meta = str(name) + \" [SEP] \" + \\\n",
    "      str(df['actors'][i]) + \" [SEP] \" + \\\n",
    "      str(df['director'][i]) + \" [SEP] \" + \\\n",
    "      str(df['genre'][i]) + \" [SEP] \" + \\\n",
    "      str(desc)\n",
    "\n",
    "    # for movie match in inspire dataset\n",
    "    inspired_movie_db[key] = concated_meta\n",
    "    movie_to_id[full_name] = key\n",
    "    key +=1 \n",
    "print(len(inspired_movie_db))"
   ]
  },
  {
   "cell_type": "code",
   "execution_count": 4,
   "id": "3a699921",
   "metadata": {},
   "outputs": [],
   "source": [
    "train_path = \"/home/by2299/Full_CRS/Data/Inspired/dialog_data/train.tsv\"\n",
    "dev_path = \"/home/by2299/Full_CRS/Data/Inspired/dialog_data/dev2.tsv\"\n",
    "test_path = \"/home/by2299/Full_CRS/Data/Inspired/dialog_data/test.tsv\""
   ]
  },
  {
   "cell_type": "code",
   "execution_count": 5,
   "id": "5933654d",
   "metadata": {},
   "outputs": [],
   "source": [
    "def collect_dialog(data_path, movie_db):\n",
    "    \n",
    "    data = pd.read_csv (data_path, sep = '\\t')\n",
    "    dialog_group = dict()\n",
    "\n",
    "    for i in range(len(data['dialog_id'])):\n",
    "        dialog_id = data['dialog_id'][i]\n",
    "        if dialog_id not in dialog_group.keys():\n",
    "            dialog_group[dialog_id] = [i]\n",
    "        else:\n",
    "            dialog_group[dialog_id].append(i)\n",
    "\n",
    "    AB_dict = {}\n",
    "    AB_dict['RECOMMENDER'] = 'A'\n",
    "    AB_dict['SEEKER'] = 'B'\n",
    "\n",
    "    all_dialogs = []\n",
    "    \n",
    "    count1=0\n",
    "    count2=0\n",
    "    non_exist_movies = {}\n",
    "\n",
    "    for dial_id, utt_list in dialog_group.items():\n",
    "\n",
    "        this_dialog = []\n",
    "        j = 0\n",
    "        while j < len(utt_list):\n",
    "            mentioned = []\n",
    "            userID = data['speaker'][utt_list[j]]\n",
    "            text = data['text'][utt_list[j]]\n",
    "            text_p = data['text_with_placeholder'][utt_list[j]]\n",
    "            mentioned_movies = re.findall(r\"\\[MOVIE_TITLE_\\d+]\", text_p)\n",
    "\n",
    "            movie_dict = ast.literal_eval(data['movie_dict'][utt_list[j]])\n",
    "            genre_dict = ast.literal_eval(data['genre_dict'][utt_list[j]])\n",
    "            actor_dict = ast.literal_eval(data['actor_dict'][utt_list[j]])\n",
    "\n",
    "            movie_dict_r = {}\n",
    "            genre_dict_r = {}\n",
    "            actor_dict_r = {}\n",
    "\n",
    "            for key, value in movie_dict.items():\n",
    "                movie_dict_r[int(value)] = key\n",
    "            for key, value in genre_dict.items():\n",
    "                genre_dict_r[int(value)] = key\n",
    "            for key, value in actor_dict.items():\n",
    "                actor_dict_r[int(value)] = key\n",
    "\n",
    "            if len(mentioned_movies) > 0:         \n",
    "                for item in mentioned_movies:\n",
    "                    key = int(re.findall(r\"\\d\", item)[0])\n",
    "                    movie = movie_dict_r[key]\n",
    "                    if movie.lower() in movie_db:\n",
    "                        count1+=1\n",
    "                        mentioned.append(movie_db[movie.lower()])\n",
    "                        text_p = text_p.replace(item, '[MOVIE_ID]')\n",
    "                    else:\n",
    "                        count2+=1   \n",
    "                        non_exist_movies[movie] = 1\n",
    "\n",
    "                mentioned_genre = re.findall(r\"\\[MOVIE_GENRE_\\d+]\", text_p)\n",
    "                for item in mentioned_genre:\n",
    "                    key = int(re.findall(r\"\\d\", item)[0])\n",
    "                    if key in genre_dict_r.keys():\n",
    "                        genre = genre_dict_r[key]\n",
    "                        text_p = text_p.replace(item, genre)\n",
    "\n",
    "                mentioned_actor = re.findall(r\"\\[MOVIE_P_ACTOR_\\d+]\", text_p)\n",
    "                for item in mentioned_actor:\n",
    "                    key = int(re.findall(r\"\\d\", item)[0])\n",
    "                    actor = actor_dict_r[key]\n",
    "                    text_p = text_p.replace(item, actor)\n",
    "\n",
    "                text = text_p\n",
    "\n",
    "            k = 1\n",
    "            while j + k < len(utt_list) and userID == data['speaker'][utt_list[j+k]]:\n",
    "                text_new = data['text'][utt_list[j+k]]\n",
    "                text_p = data['text_with_placeholder'][utt_list[j+k]]\n",
    "                mentioned_movies = re.findall(r\"\\[MOVIE_TITLE_\\d+]\", text_p)\n",
    "\n",
    "                if len(mentioned_movies) > 0:         \n",
    "                    for item in mentioned_movies:\n",
    "                        key = int(re.findall(r\"\\d\", item)[0])\n",
    "                        if key in movie_dict_r.keys():\n",
    "                            movie = movie_dict_r[key]\n",
    "                            \n",
    "                            if movie.lower() in movie_db:\n",
    "                                count1+=1\n",
    "                                mentioned.append(movie_db[movie.lower()])\n",
    "                                text_p = text_p.replace(item, '[MOVIE_ID]')\n",
    "                            else:\n",
    "                                count2+=1   \n",
    "                                non_exist_movies[movie] = 1\n",
    "\n",
    "                    mentioned_genre = re.findall(r\"\\[MOVIE_GENRE_\\d+]\", text_p)\n",
    "                    for item in mentioned_genre:\n",
    "                        key = int(re.findall(r\"\\d\", item)[0])\n",
    "                        if key in genre_dict_r.keys():\n",
    "                            genre = genre_dict_r[key]\n",
    "                            text_p = text_p.replace(item, genre)\n",
    "\n",
    "                    mentioned_actor = re.findall(r\"\\[MOVIE_P_ACTOR_\\d+]\", text_p)\n",
    "                    for item in mentioned_actor:\n",
    "                        key = int(re.findall(r\"\\d\", item)[0])\n",
    "                        if key in actor_dict_r.keys():\n",
    "                            actor = actor_dict_r[key]\n",
    "                            text_p = text_p.replace(item, actor)\n",
    "\n",
    "                    text_new = text_p\n",
    "\n",
    "                text = text + ' ' + text_new\n",
    "\n",
    "                k += 1\n",
    "            j = j + k\n",
    "            if mentioned == []:\n",
    "                mentioned = None\n",
    "            this_dialog.append((AB_dict[userID] + \": \" + text, mentioned)) \n",
    "\n",
    "        all_dialogs.append(this_dialog)\n",
    "    \n",
    "    print(count1, count2)\n",
    "\n",
    "    return all_dialogs, non_exist_movies"
   ]
  },
  {
   "cell_type": "code",
   "execution_count": 6,
   "id": "4187c5e9",
   "metadata": {},
   "outputs": [
    {
     "name": "stdout",
     "output_type": "stream",
     "text": [
      "2697 1430\n",
      "367 175\n",
      "300 179\n"
     ]
    }
   ],
   "source": [
    "train_dialogs, train_non_exist_movies = collect_dialog(train_path, movie_to_id)\n",
    "dev_dialogs, dev_non_exist_movies = collect_dialog(dev_path, movie_to_id)\n",
    "test_dialogs, test_non_exist_movies = collect_dialog(test_path, movie_to_id)"
   ]
  },
  {
   "cell_type": "code",
   "execution_count": 7,
   "id": "4b57ca83",
   "metadata": {},
   "outputs": [],
   "source": [
    "all_non_exist_movies = {}\n",
    "for key in train_non_exist_movies.keys():\n",
    "    all_non_exist_movies[key] = 1\n",
    "for key in dev_non_exist_movies.keys():\n",
    "    all_non_exist_movies[key] = 1\n",
    "for key in test_non_exist_movies.keys():\n",
    "    all_non_exist_movies[key] = 1"
   ]
  },
  {
   "cell_type": "code",
   "execution_count": null,
   "id": "1fbf917f",
   "metadata": {},
   "outputs": [],
   "source": []
  },
  {
   "cell_type": "code",
   "execution_count": 8,
   "id": "d5824308",
   "metadata": {},
   "outputs": [
    {
     "name": "stderr",
     "output_type": "stream",
     "text": [
      "/home/by2299/.local/lib/python3.8/site-packages/IPython/core/interactiveshell.py:3169: DtypeWarning: Columns (3) have mixed types.Specify dtype option on import or set low_memory=False.\n",
      "  has_raised = await self.run_ast_nodes(code_ast.body, cell_name,\n",
      "/home/by2299/.local/lib/python3.8/site-packages/IPython/core/interactiveshell.py:3169: DtypeWarning: Columns (10) have mixed types.Specify dtype option on import or set low_memory=False.\n",
      "  has_raised = await self.run_ast_nodes(code_ast.body, cell_name,\n"
     ]
    }
   ],
   "source": [
    "# IMDb dataset\n",
    "\n",
    "df = pd.read_csv(\"/home/by2299/RedialData/IMDb.csv\")\n",
    "\n",
    "# our ID to description\n",
    "all_movie_db = {} # ID to descripiton\n",
    "imdb_to_id = {}\n",
    "\n",
    "# unique imdb id set\n",
    "imdb_id_set = {}\n",
    "\n",
    "# unique duplicate name set\n",
    "duplicate_name_set = {}\n",
    "\n",
    "key = 0\n",
    "for i in range(len(df)):\n",
    "    mid = df['imdb_title_id'][i]\n",
    "    if mid not in imdb_id_set.keys():\n",
    "        imdb_id_set[mid]=1\n",
    "        name = df['original_title'][i].lower()\n",
    "        \n",
    "        top3_actors = \"nan\" if str(df['actors'][i]) == \"nan\" else ','.join(df['actors'][i].split(',')[:3])\n",
    "        director  = df['director'][i]\n",
    "        genres = df['genre'][i]\n",
    "        \n",
    "        year = df['year'][i]\n",
    "        full_name = name + ' (' + str(year) + ')'\n",
    "        desc = df['description'][i]\n",
    "        \n",
    "        concated_meta = str(name) + ' [SEP] ' + str(top3_actors) + ' [SEP] ' + \\\n",
    "            str(director) + ' [SEP] ' + str(genres) + ' [SEP] ' + str(desc)\n",
    "    \n",
    "        \n",
    "        # for movie match in redial dataset\n",
    "        all_movie_db[key] = concated_meta\n",
    "        imdb_to_id[full_name] = key\n",
    "        key +=1 \n",
    "\n",
    "# Movies_metadata dataset\n",
    "new_count = 0\n",
    "df = pd.read_csv(\"/home/by2299/RedialData/movies_metadata.csv\")\n",
    "for i in range(len(df)):\n",
    "    mid = df['imdb_id'][i]\n",
    "    if mid not in imdb_id_set.keys():\n",
    "        new_count += 1\n",
    "        imdb_id_set[mid]=1\n",
    "        name = df['original_title'][i].lower()\n",
    "        \n",
    "        genres = json.loads(df[\"genres\"][i].replace('\\'', '\\\"'))\n",
    "        genres = ', '.join([ g['name'] for g in genres])\n",
    "        \n",
    "        year = df['release_date'][i]\n",
    "        year = re.findall(r\"\\d\\d\\d\\d\", str(year))\n",
    "        if len(year) > 0:\n",
    "            year = year[0]\n",
    "            full_name = name + ' (' + str(year) + ')'\n",
    "        else:\n",
    "            full_name = name\n",
    "        desc = df['overview'][i]\n",
    "        \n",
    "        concated_meta = str(name) + ' [SEP] [SEP] [SEP] ' + str(genres) + ' [SEP] ' + str(desc)\n",
    "                \n",
    "        # for movie match in redial dataset\n",
    "        all_movie_db[key] = concated_meta\n",
    "        imdb_to_id[full_name] = key\n",
    "        key +=1 "
   ]
  },
  {
   "cell_type": "code",
   "execution_count": null,
   "id": "a010f95c",
   "metadata": {},
   "outputs": [],
   "source": []
  },
  {
   "cell_type": "code",
   "execution_count": 9,
   "id": "9fe1b7c8",
   "metadata": {},
   "outputs": [
    {
     "name": "stdout",
     "output_type": "stream",
     "text": [
      "361\n",
      "18225\n"
     ]
    }
   ],
   "source": [
    "count = 0\n",
    "last_non_exist_movies = []\n",
    "\n",
    "key = len(inspired_movie_db)\n",
    "for i in all_non_exist_movies.keys():\n",
    "    if i.lower() not in imdb_to_id:\n",
    "        count += 1\n",
    "        last_non_exist_movies.append(i)\n",
    "    else:\n",
    "        inspired_movie_db[key] = all_movie_db[imdb_to_id[i.lower()]]\n",
    "        movie_to_id[i.lower()] = key\n",
    "        key+=1\n",
    "print(len(last_non_exist_movies))\n",
    "print(len(inspired_movie_db))"
   ]
  },
  {
   "cell_type": "code",
   "execution_count": 10,
   "id": "269faf91",
   "metadata": {},
   "outputs": [],
   "source": [
    "from tmdbv3api import TMDb\n",
    "from tmdbv3api import Movie\n",
    "\n",
    "tmdb = TMDb()\n",
    "tmdb.api_key = 'ecbe5b50079424c4372da15d2999da46'\n",
    "tmdb.language = 'en'\n",
    "tmdb.debug = True\n",
    "\n",
    "movie = Movie()"
   ]
  },
  {
   "cell_type": "code",
   "execution_count": 11,
   "id": "5fec6302",
   "metadata": {},
   "outputs": [],
   "source": [
    "def meta_with_id(m_id, movie_name_no_year):\n",
    "    movie_deets = movie.details(m_id)\n",
    "    \n",
    "    #actors\n",
    "    actors = ''\n",
    "    for i, cast in enumerate(movie_deets['casts']['cast']):\n",
    "        if i <= 1:\n",
    "            actors += cast['name'] + ', '\n",
    "        else:\n",
    "            actors += cast['name']\n",
    "            break\n",
    "    \n",
    "    # genre\n",
    "    genres = ''\n",
    "    for i, genre in enumerate(movie_deets[\"genres\"]):\n",
    "        genres += genre['name'] + ', '\n",
    "        \n",
    "    # overview\n",
    "    overview = movie_deets['overview']\n",
    "    \n",
    "    return movie_name_no_year + ' [SEP] ' + actors + ' [SEP] [SEP] ' + genres + ' [SEP] ' + overview"
   ]
  },
  {
   "cell_type": "code",
   "execution_count": 12,
   "id": "df3d8101",
   "metadata": {},
   "outputs": [
    {
     "name": "stdout",
     "output_type": "stream",
     "text": [
      "116\n",
      "18469\n"
     ]
    }
   ],
   "source": [
    "still_unfound_sad = []\n",
    "key = len(inspired_movie_db)\n",
    "for movie_name_unfound in last_non_exist_movies:\n",
    "    movie_name_unfound_no_year = movie_name_unfound\n",
    "    if '(' in movie_name_unfound:\n",
    "        movie_name_unfound_no_year = ' '.join(movie_name_unfound.split(' ')[:-1])\n",
    "    if movie_name_unfound_no_year == '': continue\n",
    "    results = movie.search(movie_name_unfound_no_year)\n",
    "    if len(results) == 0: still_unfound_sad.append(movie_name_unfound); continue\n",
    "    if len(results) == 1:\n",
    "        inspired_movie_db[key] = meta_with_id(results[0]['id'], movie_name_unfound_no_year)\n",
    "        movie_to_id[movie_name_unfound.lower()] = key\n",
    "#         imdb_name_without_year_to_id_full[movie_name_unfound_no_year] = key\n",
    "        key += 1\n",
    "        continue\n",
    "    found = False\n",
    "    for result in results:\n",
    "        o_title = result['original_title']\n",
    "        title = result['title']\n",
    "        if o_title.lower() == movie_name_unfound_no_year.lower() or title.lower() == movie_name_unfound_no_year.lower():\n",
    "            inspired_movie_db[key] = meta_with_id(result['id'], movie_name_unfound_no_year)\n",
    "            movie_to_id[movie_name_unfound.lower()] = key\n",
    "#             imdb_name_without_year_to_id_full[movie_name_unfound_no_year] = key\n",
    "            key += 1\n",
    "            found = True\n",
    "            break\n",
    "    if not found:\n",
    "        still_unfound_sad.append(movie_name_unfound)\n",
    "    \n",
    "print(len(still_unfound_sad))\n",
    "print(len(inspired_movie_db))"
   ]
  },
  {
   "cell_type": "code",
   "execution_count": null,
   "id": "cc514145",
   "metadata": {},
   "outputs": [],
   "source": []
  },
  {
   "cell_type": "code",
   "execution_count": 13,
   "id": "683964d0",
   "metadata": {},
   "outputs": [
    {
     "name": "stdout",
     "output_type": "stream",
     "text": [
      "3754 373\n",
      "517 25\n",
      "431 48\n"
     ]
    }
   ],
   "source": [
    "train_dialogs, train_non_exist_movies = collect_dialog(train_path, movie_to_id)\n",
    "dev_dialogs, dev_non_exist_movies = collect_dialog(dev_path, movie_to_id)\n",
    "test_dialogs, test_non_exist_movies = collect_dialog(test_path, movie_to_id)"
   ]
  },
  {
   "cell_type": "code",
   "execution_count": 14,
   "id": "bc9dc38c",
   "metadata": {},
   "outputs": [
    {
     "data": {
      "text/plain": [
       "[('A: Hi There! What types of movies do you like to watch?', None),\n",
       " (\"B: Hello! I'm more of an action movie or a good romance and mystery movie.\",\n",
       "  None),\n",
       " ('A: I just saw the trailer for [MOVIE_ID] when I went to see Joker and it looked like a good mix of action and',\n",
       "  [15]),\n",
       " ('B: I seen that one too as I seen [MOVIE_ID] about a month ago. I thought about asking my fiance about going and seeing it.',\n",
       "  [45]),\n",
       " ('A: It looks like a good movie for people who like many different movies. It also has a great cast! I was surprised to see Chris Evans in the trailer!',\n",
       "  None),\n",
       " (\"B: Maybe with Chris Evans in it it'll be easier to convince my fiance to see it. Do you know who else is in the cast?\",\n",
       "  None),\n",
       " ('A: Daniel Craig and Jamie Lee Curtis are also in the cast. Daniel Craig does a lot of 007 so definitely a good hearthrob role to convince the misses lol!',\n",
       "  None),\n",
       " ('B: [MOVIE_ID] But he loves the bond movies so that should be a good incentive for him to go see it. Do you have any other recommendations?',\n",
       "  [17869]),\n",
       " ('A: The new [MOVIE_ID] comes out in less than a month, if you are into the franchise.',\n",
       "  [17870]),\n",
       " (\"B: He is, I think he told me we're getting it when it comes out to add to our movie collection.\",\n",
       "  None),\n",
       " ('A: Well that is another great action movie. I also recommend the [MOVIE_ID] series',\n",
       "  [1104]),\n",
       " (\"B: I haven't seen any of that series. Could you tell me what the general plot is>\",\n",
       "  None),\n",
       " ('A: John Wick is a former member of a gang, he was basically an assassin. He falls in love and quits the game, but then his wife dies, and someone comes in and kills his dog. He then goes on a revenge rampage against the people who broke into his house. I have yet to watch the 3rd one but the action scenes were really cool!',\n",
       "  None),\n",
       " (\"B: Oh I'd definitely would cry at the dogs death.\", None),\n",
       " ('A: It is really sad! the dog was a last gift from his dying wife which makes it so much worse',\n",
       "  None),\n",
       " (\"B: I couldn't even finish [MOVIE_ID] because of the dog dying. Anything with animal death makes me ball like a baby.\",\n",
       "  [7780]),\n",
       " ('A: [MOVIE_ID] & Me had me crying for a good half hour so I completely understand that!',\n",
       "  [1914]),\n",
       " ('B: I avoided that movie because someone told me he passed away. My fiance took me to see jurrasic world as our first date and I cried at the dinosuars dying.',\n",
       "  None),\n",
       " ('A: I would definitely avoid that movie if animal deaths make you said. Oh that is so cute though!',\n",
       "  None),\n",
       " ('B: Yeah, he had to calm me down for about an hour and bought me ice cream to apologize for it.',\n",
       "  None),\n",
       " ('A: Aww that is so sweet. [MOVIE_ID] that you dont want to see animals die, and you are looking for an [MOVIE_ID]/Mystery I think [MOVIE_ID] would be a good movie choice. Do you agree?',\n",
       "  [15, 18225, 14523]),\n",
       " (\"B: I do agree with that. When it comes out i'll bring it up for date night. Thank you!!\",\n",
       "  None)]"
      ]
     },
     "execution_count": 14,
     "metadata": {},
     "output_type": "execute_result"
    }
   ],
   "source": [
    "train_dialogs[0]"
   ]
  },
  {
   "cell_type": "code",
   "execution_count": 15,
   "id": "5543a7c4",
   "metadata": {},
   "outputs": [
    {
     "data": {
      "text/plain": [
       "'fragments [SEP] Kate Beckinsale, Forest Whitaker, Guy Pearce, Dakota Fanning [SEP] Rowan Woods [SEP] Crime, Drama [SEP] A group of strangers form a unique relationship with each other after surviving a random shooting at a Los Angeles diner.'"
      ]
     },
     "execution_count": 15,
     "metadata": {},
     "output_type": "execute_result"
    }
   ],
   "source": [
    "inspired_movie_db[8300]"
   ]
  },
  {
   "cell_type": "code",
   "execution_count": 16,
   "id": "7996bac3",
   "metadata": {},
   "outputs": [],
   "source": [
    "torch.save(train_dialogs, \"/local-scratch1/data/by2299/inspired_train_placeholder\")\n",
    "torch.save(dev_dialogs, \"/local-scratch1/data/by2299/inspired_dev_placeholder\")\n",
    "torch.save(test_dialogs, \"/local-scratch1/data/by2299/inspired_test_placeholder\")\n",
    "\n",
    "torch.save(inspired_movie_db, \"/local-scratch1/data/by2299/inspired_movie_db\")"
   ]
  }
 ],
 "metadata": {
  "kernelspec": {
   "display_name": "Python 3 (ipykernel)",
   "language": "python",
   "name": "python3"
  },
  "language_info": {
   "codemirror_mode": {
    "name": "ipython",
    "version": 3
   },
   "file_extension": ".py",
   "mimetype": "text/x-python",
   "name": "python",
   "nbconvert_exporter": "python",
   "pygments_lexer": "ipython3",
   "version": "3.9.7"
  }
 },
 "nbformat": 4,
 "nbformat_minor": 5
}
